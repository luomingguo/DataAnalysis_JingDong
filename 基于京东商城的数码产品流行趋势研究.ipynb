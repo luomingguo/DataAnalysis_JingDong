{
 "cells": [
  {
   "cell_type": "markdown",
   "metadata": {},
   "source": [
    "# 基于京东商城的数码产品流行趋势研究"
   ]
  },
  {
   "cell_type": "markdown",
   "metadata": {},
   "source": [
    "## 一、项目背景\n",
    " 科技的迅速发展带来了数码产品的日新月异，极大的丰富和便利了人们的日常生活。单反和微单可以让摄影爱好者专注于发现美，而不需要过多地学习使用设备，AR游戏机可以让游戏爱好者享受沉浸式的快感，智能穿戴设备可以帮助你时刻关注健康状况，凡此种种不胜枚举，每个人的都会有那么几件喜爱的数码产品。"
   ]
  },
  {
   "cell_type": "markdown",
   "metadata": {},
   "source": [
    "## 二、项目说明\n",
    "本项目收集了京东商城上平板电脑、摄影摄像、智能数码和娱乐影音等各类数码产品信息，通过分析其功能、品牌、价格、销量等各维度的数据，解读数码产品的行业现状和销售特征，挖掘影响数码产品销量和受欢迎程度的主要因素，探究最具价值的数码产品。"
   ]
  },
  {
   "cell_type": "markdown",
   "metadata": {},
   "source": [
    "### 2.1数据准备\n",
    "* 准备好的微博热点项目数据为：\"京东数码数据.xlsx\"，\"京东评论数据.xlsx\"。 \n"
   ]
  },
  {
   "cell_type": "markdown",
   "metadata": {},
   "source": [
    "### 2.2创建数据表&数据清洗\n",
    "#### 2.2.1查看数据：明确各字段含义，初步探索数据类型及缺失值情况\n",
    "将数据列名称的因为改为中文名称；  \n",
    "\"京东评论数据.xlsx\"包含了每个数码品类中最热销的商品的评论数据\n"
   ]
  },
  {
   "cell_type": "markdown",
   "metadata": {},
   "source": [
    "#### 2.2.2 数据处理"
   ]
  },
  {
   "cell_type": "markdown",
   "metadata": {},
   "source": [
    "* 在\"shopscores(shopscores)\"中使用字符串处理方法，删除字符串中的\\,然后提取\"商品评价\",\"物流履约\",\"售后服务\"数据，创建对应的数据列，再进一步将其中的评分作为一列数据，将高低作为一列数据；\n",
    "* 在\"commentkinds(commentkinds)\"中提取[\"全部评价\",\"晒图\",\"视频晒单\",\"追评\",\"好评\",\"中评\",\"差评\"]，创建好评率数据列；\n",
    "* 提取重量数据，创建对应的数据列；\n"
   ]
  },
  {
   "cell_type": "markdown",
   "metadata": {},
   "source": [
    "### 2.3 数据分析\n",
    "* 进行各个维度数据比较及构成的可视化分析，包括但不限于各数码产品价格分析、各数码产品好评率分析、各数码产品市场占比、各数码产品的品牌对比、找到各数码产品的优势店铺、京东自营的销售和评价和普通店铺的对比；\n",
    "* 建立影响销量的回归模型；\n",
    "* 对数码商品的评论数据进行情感分析和LDA主题模型分析；"
   ]
  },
  {
   "cell_type": "markdown",
   "metadata": {
    "collapsed": true
   },
   "source": [
    "## 三.项目成果提交\n",
    "项目周期：三周  \n",
    "成果要求：需完成项目分析报告（PPT or Word），报告应至少包含标题、目录、项目介绍、正文、总结，项目代码做为附件。\n"
   ]
  }
 ],
 "metadata": {
  "kernelspec": {
   "display_name": "Python 3",
   "language": "python",
   "name": "python3"
  },
  "language_info": {
   "codemirror_mode": {
    "name": "ipython",
    "version": 3
   },
   "file_extension": ".py",
   "mimetype": "text/x-python",
   "name": "python",
   "nbconvert_exporter": "python",
   "pygments_lexer": "ipython3",
   "version": "3.7.3"
  }
 },
 "nbformat": 4,
 "nbformat_minor": 2
}
